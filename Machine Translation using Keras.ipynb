{
 "cells": [
  {
   "cell_type": "code",
   "execution_count": 1,
   "metadata": {},
   "outputs": [],
   "source": [
    "import string\n",
    "import numpy as np\n",
    "import pandas as pd\n",
    "import matplotlib.pyplot as plt\n",
    "from sklearn.model_selection import train_test_split"
   ]
  },
  {
   "cell_type": "markdown",
   "metadata": {},
   "source": [
    "#### Importing data"
   ]
  },
  {
   "cell_type": "code",
   "execution_count": 2,
   "metadata": {},
   "outputs": [
    {
     "data": {
      "text/html": [
       "<div>\n",
       "<style scoped>\n",
       "    .dataframe tbody tr th:only-of-type {\n",
       "        vertical-align: middle;\n",
       "    }\n",
       "\n",
       "    .dataframe tbody tr th {\n",
       "        vertical-align: top;\n",
       "    }\n",
       "\n",
       "    .dataframe thead th {\n",
       "        text-align: right;\n",
       "    }\n",
       "</style>\n",
       "<table border=\"1\" class=\"dataframe\">\n",
       "  <thead>\n",
       "    <tr style=\"text-align: right;\">\n",
       "      <th></th>\n",
       "      <th>english</th>\n",
       "      <th>french</th>\n",
       "    </tr>\n",
       "  </thead>\n",
       "  <tbody>\n",
       "    <tr>\n",
       "      <th>0</th>\n",
       "      <td>Go.</td>\n",
       "      <td>Va !</td>\n",
       "    </tr>\n",
       "    <tr>\n",
       "      <th>1</th>\n",
       "      <td>Hi.</td>\n",
       "      <td>Salut !</td>\n",
       "    </tr>\n",
       "    <tr>\n",
       "      <th>2</th>\n",
       "      <td>Hi.</td>\n",
       "      <td>Salut.</td>\n",
       "    </tr>\n",
       "    <tr>\n",
       "      <th>3</th>\n",
       "      <td>Run!</td>\n",
       "      <td>Cours !</td>\n",
       "    </tr>\n",
       "    <tr>\n",
       "      <th>4</th>\n",
       "      <td>Run!</td>\n",
       "      <td>Courez !</td>\n",
       "    </tr>\n",
       "  </tbody>\n",
       "</table>\n",
       "</div>"
      ],
      "text/plain": [
       "  english    french\n",
       "0     Go.      Va !\n",
       "1     Hi.   Salut !\n",
       "2     Hi.    Salut.\n",
       "3    Run!   Cours !\n",
       "4    Run!  Courez !"
      ]
     },
     "execution_count": 2,
     "metadata": {},
     "output_type": "execute_result"
    }
   ],
   "source": [
    "data = pd.read_csv('data/fra-eng/fra.tsv', delimiter='\\t')\n",
    "data.head()"
   ]
  },
  {
   "cell_type": "markdown",
   "metadata": {},
   "source": [
    "##### Since the dataset has around 1,50,000 training examples but we will be using only 20,000 rows to keep it simple."
   ]
  },
  {
   "cell_type": "code",
   "execution_count": 3,
   "metadata": {},
   "outputs": [],
   "source": [
    "data = data.iloc[:20000, :]\n",
    "train, test = train_test_split(data, test_size=0.2, random_state=42)\n",
    "\n",
    "english = train.english.values\n",
    "french = train.french.values"
   ]
  },
  {
   "cell_type": "markdown",
   "metadata": {},
   "source": [
    "#### Exploring dataset"
   ]
  },
  {
   "cell_type": "code",
   "execution_count": 4,
   "metadata": {},
   "outputs": [
    {
     "name": "stdout",
     "output_type": "stream",
     "text": [
      "Length of english sentence  16000\n",
      "Length of french sentence  16000\n",
      "--------------------\n",
      "I wasn't hired.\n",
      "--------------------\n",
      "On ne m'a pas recrutée.\n"
     ]
    }
   ],
   "source": [
    "print(\"Length of english sentence \", len(english))\n",
    "print(\"Length of french sentence \", len(french))\n",
    "print('-'*20)\n",
    "print(english[100])\n",
    "print('-'*20)\n",
    "print(french[100])"
   ]
  },
  {
   "cell_type": "markdown",
   "metadata": {},
   "source": [
    "#### Remove all punctuations from text"
   ]
  },
  {
   "cell_type": "code",
   "execution_count": 62,
   "metadata": {},
   "outputs": [
    {
     "name": "stdout",
     "output_type": "stream",
     "text": [
      "I wasnt hired\n",
      "--------------------\n",
      "On ne ma pas recrutée\n"
     ]
    }
   ],
   "source": [
    "english = [s.translate(str.maketrans('', '', string.punctuation)) for s in english]\n",
    "french = [s.translate(str.maketrans('', '', string.punctuation)) for s in french]\n",
    "\n",
    "print(english[100])\n",
    "print('-'*20)\n",
    "print(french[100])"
   ]
  },
  {
   "cell_type": "markdown",
   "metadata": {},
   "source": [
    "#### Convert all examples to lowercase"
   ]
  },
  {
   "cell_type": "code",
   "execution_count": 63,
   "metadata": {},
   "outputs": [
    {
     "name": "stdout",
     "output_type": "stream",
     "text": [
      "i wasnt hired\n",
      "--------------------\n",
      "on ne ma pas recrutée\n"
     ]
    }
   ],
   "source": [
    "english = [s.lower() if isinstance(s, str) else s for s in english]\n",
    "french = [s.lower() if isinstance(s, str) else s for s in french]\n",
    "\n",
    "print(english[100])\n",
    "print('-'*20)\n",
    "print(french[100])"
   ]
  },
  {
   "cell_type": "markdown",
   "metadata": {},
   "source": [
    "#### Visualise the length of examples"
   ]
  },
  {
   "cell_type": "code",
   "execution_count": 64,
   "metadata": {},
   "outputs": [
    {
     "data": {
      "image/png": "[encoded data removed]",
      "text/plain": [
       "<Figure size 432x288 with 2 Axes>"
      ]
     },
     "metadata": {
      "needs_background": "light"
     },
     "output_type": "display_data"
    }
   ],
   "source": [
    "eng_l = [len(s.split()) for s in english]\n",
    "fre_l = [len(s.split()) for s in french]\n",
    "\n",
    "length_df = pd.DataFrame({'english': eng_l, 'french': fre_l})\n",
    "length_df.hist(bins=30)\n",
    "plt.show()"
   ]
  },
  {
   "cell_type": "code",
   "execution_count": 65,
   "metadata": {},
   "outputs": [],
   "source": [
    "from keras import optimizers\n",
    "from keras.models import Sequential\n",
    "from keras.preprocessing.text import Tokenizer\n",
    "from keras.utils.vis_utils import plot_model\n",
    "from keras.preprocessing.sequence import pad_sequences\n",
    "from keras.layers import Dense, Embedding, LSTM, RepeatVector"
   ]
  },
  {
   "cell_type": "code",
   "execution_count": 66,
   "metadata": {},
   "outputs": [],
   "source": [
    "def tokenizer(corpus):\n",
    "    tokenizer = Tokenizer()\n",
    "    tokenizer.fit_on_texts(corpus)\n",
    "    return tokenizer\n",
    "\n",
    "english_tokenizer = tokenizer(english)\n",
    "french_tokenizer = tokenizer(french)\n",
    "\n",
    "word_index_english = english_tokenizer.word_index\n",
    "word_index_french = french_tokenizer.word_index\n",
    "\n",
    "eng_vocab_size = len(word_index_english) + 1\n",
    "fre_vocab_size = len(word_index_french) + 1"
   ]
  },
  {
   "cell_type": "code",
   "execution_count": 67,
   "metadata": {},
   "outputs": [
    {
     "name": "stdout",
     "output_type": "stream",
     "text": [
      "Size of english vocab: 4820\n",
      "Size of french vocab: 7011\n"
     ]
    }
   ],
   "source": [
    "print(\"Size of english vocab:\", len(word_index_english))\n",
    "print(\"Size of french vocab:\", len(word_index_french))"
   ]
  },
  {
   "cell_type": "code",
   "execution_count": 68,
   "metadata": {},
   "outputs": [
    {
     "name": "stdout",
     "output_type": "stream",
     "text": [
      "Max length of english sentence: 8556\n",
      "Max length of french sentence: 11\n"
     ]
    }
   ],
   "source": [
    "max_len_eng = max(eng_l)\n",
    "max_len_fre = max(fre_l)\n",
    "\n",
    "print(\"Max length of english sentence:\", max_len_eng)\n",
    "print(\"Max length of french sentence:\", max_len_fre)"
   ]
  },
  {
   "cell_type": "code",
   "execution_count": 69,
   "metadata": {},
   "outputs": [],
   "source": [
    "def encode_sequences(tokenizer, length, text):\n",
    "    sequences = tokenizer.texts_to_sequences(text)\n",
    "    sequences = pad_sequences(sequences, maxlen=length, padding='post')\n",
    "    return sequences"
   ]
  },
  {
   "cell_type": "code",
   "execution_count": 70,
   "metadata": {},
   "outputs": [
    {
     "name": "stdout",
     "output_type": "stream",
     "text": [
      "[ 24 447 570 ...   0   0   0]\n",
      "[  12  166 1588    0    0    0    0    0    0    0    0]\n"
     ]
    }
   ],
   "source": [
    "eng_seq = encode_sequences(english_tokenizer, max_len_eng, english)\n",
    "fre_seq = encode_sequences(french_tokenizer, max_len_fre, french)\n",
    "\n",
    "print(eng_seq[10])\n",
    "print(fre_seq[10])"
   ]
  },
  {
   "cell_type": "code",
   "execution_count": 71,
   "metadata": {},
   "outputs": [],
   "source": [
    "def nmt_model(in_vocab_size, out_vocab_size, in_timestep, out_timestep, units):\n",
    "    model = Sequential()\n",
    "    model.add(Embedding(in_vocab_size, units, input_length=in_timestep, mask_zero=True))\n",
    "    model.add(LSTM(units))\n",
    "    model.add(RepeatVector(out_timestep))\n",
    "    model.add(LSTM(units, return_sequences=True))\n",
    "    model.add(Dense(out_vocab_size, activation=\"softmax\"))\n",
    "    return model"
   ]
  },
  {
   "cell_type": "code",
   "execution_count": 72,
   "metadata": {},
   "outputs": [],
   "source": [
    "model = nmt_model(fre_vocab_size, eng_vocab_size, max_len_fre, max_len_eng, 256)"
   ]
  },
  {
   "cell_type": "code",
   "execution_count": 46,
   "metadata": {},
   "outputs": [],
   "source": [
    "rms = optimizers.RMSprop(lr=0.001)\n",
    "model.compile(loss=\"sparse_categorical_crossentropy\", optimizer=rms, metrics=['accuracy'])"
   ]
  },
  {
   "cell_type": "code",
   "execution_count": 47,
   "metadata": {},
   "outputs": [
    {
     "name": "stderr",
     "output_type": "stream",
     "text": [
      "/home/amarpandey/Jupyter Notebook/notebook/lib/python3.6/site-packages/tensorflow_core/python/framework/indexed_slices.py:424: UserWarning: Converting sparse IndexedSlices to a dense Tensor of unknown shape. This may consume a large amount of memory.\n",
      "  \"Converting sparse IndexedSlices to a dense Tensor of unknown shape. \"\n"
     ]
    },
    {
     "name": "stdout",
     "output_type": "stream",
     "text": [
      "Train on 9000 samples, validate on 1000 samples\n",
      "Epoch 1/5\n",
      "9000/9000 [==============================] - 35s 4ms/step - loss: 3.1625 - accuracy: 0.6838 - val_loss: 2.6155 - val_accuracy: 0.6601\n",
      "Epoch 2/5\n",
      "9000/9000 [==============================] - 33s 4ms/step - loss: 2.1775 - accuracy: 0.7039 - val_loss: 2.4606 - val_accuracy: 0.6612\n",
      "Epoch 3/5\n",
      "9000/9000 [==============================] - 30s 3ms/step - loss: 2.0271 - accuracy: 0.7110 - val_loss: 2.4417 - val_accuracy: 0.6606\n",
      "Epoch 4/5\n",
      "9000/9000 [==============================] - 28s 3ms/step - loss: 1.9618 - accuracy: 0.7158 - val_loss: 2.4130 - val_accuracy: 0.6686\n",
      "Epoch 5/5\n",
      "9000/9000 [==============================] - 29s 3ms/step - loss: 1.9012 - accuracy: 0.7219 - val_loss: 2.3788 - val_accuracy: 0.6728\n"
     ]
    }
   ],
   "source": [
    "fre_seq = fre_seq.reshape(fre_seq.shape[0], fre_seq.shape[1], 1)\n",
    "history = model.fit(eng_seq, fre_seq, batch_size=512, epochs=5, verbose=1, validation_split=0.1)"
   ]
  },
  {
   "cell_type": "code",
   "execution_count": 48,
   "metadata": {},
   "outputs": [
    {
     "data": {
      "image/png": "[encoded data removed]",
      "text/plain": [
       "<Figure size 432x288 with 1 Axes>"
      ]
     },
     "metadata": {
      "needs_background": "light"
     },
     "output_type": "display_data"
    }
   ],
   "source": [
    "plt.plot(history.history['loss'])\n",
    "plt.plot(history.history['val_loss'])\n",
    "plt.legend(['train','validation'])\n",
    "plt.show()"
   ]
  },
  {
   "cell_type": "code",
   "execution_count": null,
   "metadata": {},
   "outputs": [],
   "source": []
  }
 ],
 "metadata": {
  "kernelspec": {
   "display_name": "Python 3",
   "language": "python",
   "name": "python3"
  },
  "language_info": {
   "codemirror_mode": {
    "name": "ipython",
    "version": 3
   },
   "file_extension": ".py",
   "mimetype": "text/x-python",
   "name": "python",
   "nbconvert_exporter": "python",
   "pygments_lexer": "ipython3",
   "version": "3.6.9"
  }
 },
 "nbformat": 4,
 "nbformat_minor": 4
}
